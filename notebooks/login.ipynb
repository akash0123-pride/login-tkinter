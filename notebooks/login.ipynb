{
 "cells": [
  {
   "cell_type": "code",
   "execution_count": 1,
   "metadata": {},
   "outputs": [
    {
     "ename": "TclError",
     "evalue": "no display name and no $DISPLAY environment variable",
     "output_type": "error",
     "traceback": [
      "\u001b[0;31m---------------------------------------------------------------------------\u001b[0m",
      "\u001b[0;31mTclError\u001b[0m                                  Traceback (most recent call last)",
      "Cell \u001b[0;32mIn[1], line 4\u001b[0m\n\u001b[1;32m      1\u001b[0m \u001b[39mfrom\u001b[39;00m \u001b[39mtkinter\u001b[39;00m \u001b[39mimport\u001b[39;00m \u001b[39m*\u001b[39m  \n\u001b[1;32m      3\u001b[0m \u001b[39m#Creating the object 'base' of the Tk()  \u001b[39;00m\n\u001b[0;32m----> 4\u001b[0m base \u001b[39m=\u001b[39m Tk()  \n\u001b[1;32m      6\u001b[0m \u001b[39m#Using the Geometry method to the form certain dimensions  \u001b[39;00m\n\u001b[1;32m      7\u001b[0m base\u001b[39m.\u001b[39mgeometry(\u001b[39m\"\u001b[39m\u001b[39m550x550\u001b[39m\u001b[39m\"\u001b[39m)  \n",
      "File \u001b[0;32m~/.python/current/lib/python3.10/tkinter/__init__.py:2299\u001b[0m, in \u001b[0;36mTk.__init__\u001b[0;34m(self, screenName, baseName, className, useTk, sync, use)\u001b[0m\n\u001b[1;32m   2297\u001b[0m         baseName \u001b[39m=\u001b[39m baseName \u001b[39m+\u001b[39m ext\n\u001b[1;32m   2298\u001b[0m interactive \u001b[39m=\u001b[39m \u001b[39mFalse\u001b[39;00m\n\u001b[0;32m-> 2299\u001b[0m \u001b[39mself\u001b[39m\u001b[39m.\u001b[39mtk \u001b[39m=\u001b[39m _tkinter\u001b[39m.\u001b[39;49mcreate(screenName, baseName, className, interactive, wantobjects, useTk, sync, use)\n\u001b[1;32m   2300\u001b[0m \u001b[39mif\u001b[39;00m useTk:\n\u001b[1;32m   2301\u001b[0m     \u001b[39mself\u001b[39m\u001b[39m.\u001b[39m_loadtk()\n",
      "\u001b[0;31mTclError\u001b[0m: no display name and no $DISPLAY environment variable"
     ]
    }
   ],
   "source": [
    "from tkinter import *  \n",
    "  \n",
    "#Creating the object 'base' of the Tk()  \n",
    "base = Tk()  \n",
    "  \n",
    "#Using the Geometry method to the form certain dimensions  \n",
    "base.geometry(\"550x550\")  \n",
    "  \n",
    "#Using title method to give the title to the window  \n",
    "base.title('Registration form')  \n",
    "  \n",
    "#Now, we will use 'Label' method to add widget in the Registration Form and also use place() method to set their positions.  \n",
    "lbl_0 = Label(base, text=\"Registration form\", width=20,font=(\"bold\",20))  \n",
    "  \n",
    "#the place method in tkinter module helps user to set the geometry, that is, the dimensions of a certain widget by placing them at a certain position  \n",
    "lbl_0.place(x=90,y=60)  \n",
    "  \n",
    "#Using 'Label' widget to create Full name label and using place() method to set its position.  \n",
    "lbl_1 =Label(base, text= \"FullName\", width=20,font=(\"bold\",10))  \n",
    "lbl_1.place(x=80,y=130)  \n",
    "  \n",
    "#Using Enrty widget to make a text entry box for accepting the input string in text from user.  \n",
    "enter_1 = Entry(base)  \n",
    "enter_1.place(x=240,y=130)  \n",
    "  \n",
    "#Using 'Label' widget to create Email label and using place() method to set its position.  \n",
    "lbl_3 = Label(base, text=\"Email\", width=20,font=(\"bold\",10))  \n",
    "lbl_3.place(x=68,y=180)  \n",
    "  \n",
    "#Using Enrty widget to make a text entry box for accepting the input string in text from user.  \n",
    "enter_3 = Entry(base)  \n",
    "enter_3.place(x=240,y=180)  \n",
    "  \n",
    "#Using 'Label' widget to create Gender label and using place() method to set its position.  \n",
    "lbl_4 = Label(base, text=\"Gender\", width=20,font=(\"bold\",10))  \n",
    "lbl_4.place(x=70,y=230)  \n",
    "  \n",
    "  \n",
    "#Using variable 'vars' to store the integer value, which by deault is 0  \n",
    "vars = IntVar()  \n",
    "  \n",
    "#Using Radio button widget to create an option choosing button and using place() method to set its position.  \n",
    "Radiobutton(base, text=\"Male\", padx= 5, variable= vars, value=1).place(x=235, y=230)  \n",
    "Radiobutton(base, text=\"Female\", padx= 20, variable= vars, value=2).place(x=290,y=230)  \n",
    "  \n",
    "  \n",
    "#Using 'Label' widget to create Countries label and using place() method, set its position.  \n",
    "lbl_5=Label(base, text =\"Country\", width=20,font=(\"bold\",11))  \n",
    "lbl_5.place(x=70,y=280)  \n",
    "  \n",
    "#this creates list of countries available in the dropdown list.  \n",
    "list_of_cntry=[ 'India' ,'Canada' , 'US' ,'Germany' ,'UK']  \n",
    "  \n",
    "#the variable 'cv' is introduced to store the String Value, which by default is (empty) \"\"  \n",
    "cv = StringVar()  \n",
    "drplist = OptionMenu(base, cv, *list_of_cntry)  \n",
    "drplist.config(width=15)  \n",
    "cv.set('Select your Country')  \n",
    "drplist.place(x=240, y=280)  \n",
    "  \n",
    "#Using 'Label' widget to create Language label and using place() method, set its position.  \n",
    "lbl_6=Label(base, text=\"Language\", width=20,font=('bold',10))  \n",
    "lbl_6.place(x=75,y=330)  \n",
    "  \n",
    "  \n",
    "#the new variable 'vars1' is created to store Integer Value, which by default is 0.  \n",
    "vars1=IntVar()  \n",
    "#Using the Checkbutton widget to create a button and using place() method to set its position.  \n",
    "Checkbutton(base,text=\"English\", variable = vars1).place(x=230,y=330)"
   ]
  }
 ],
 "metadata": {
  "kernelspec": {
   "display_name": "Python 3",
   "language": "python",
   "name": "python3"
  },
  "language_info": {
   "codemirror_mode": {
    "name": "ipython",
    "version": 3
   },
   "file_extension": ".py",
   "mimetype": "text/x-python",
   "name": "python",
   "nbconvert_exporter": "python",
   "pygments_lexer": "ipython3",
   "version": "3.10.4"
  },
  "orig_nbformat": 4,
  "vscode": {
   "interpreter": {
    "hash": "3ad933181bd8a04b432d3370b9dc3b0662ad032c4dfaa4e4f1596c548f763858"
   }
  }
 },
 "nbformat": 4,
 "nbformat_minor": 2
}
